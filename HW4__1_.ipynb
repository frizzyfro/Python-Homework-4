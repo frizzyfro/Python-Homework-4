{
 "cells": [
  {
   "cell_type": "code",
   "execution_count": null,
   "id": "34e8be7e",
   "metadata": {
    "deletable": false,
    "editable": false
   },
   "outputs": [],
   "source": [
    "# Initialize Otter\n",
    "import otter\n",
    "grader = otter.Notebook(\"HW4.ipynb\")"
   ]
  },
  {
   "cell_type": "markdown",
   "id": "7a180c23",
   "metadata": {},
   "source": [
    "# Homework 4\n",
    "\n",
    "This notebook contains Python problems you need to complete. Write your codes directly here. Write your codes directly here. Save your code and upload this file (\"HW3.ipynb\") to [Gradescope](https://www.gradescope.com). \n",
    "\n",
    "Note that there are some hidden tests, so you may not get full points if these tests fail. Do not be misled by the message \"q# passed!\".\n",
    "\n",
    "### This assignment must be completed individually.\n",
    "- Review the syllabus to avoid any academic integrity issues. \n",
    "- All codes in this Jupyter notebook file should be your own creation. \n",
    "- You are encouraged to openly collaborate on **Piazza** with your peers. Therefore, any code snippets shared on Piazza will not be subject to plagiarism even if code similarity checking tool discovers identical codes or similar coding patterns.\n",
    "- You may lose 2 points for each error that prevents Gradescope from auto-grading your submission.  It would be wise to comment out the lines that cause errors if you cannot fix them.\n",
    "\n",
    "### Common errors and how to fix/prevent them\n",
    "The following errors seem to be common among students. So, tips on how to fix or prevent them are given here.\n",
    "- typos:  Take advantage of auto completion using the \\[TAB\\] key.\n",
    "- incorrect use of symbols: Be careful match the opening and closing quotations, parentheses, brackets, braces. Using too many parentheses often create syntax errors.  Create some temporary variables may reduce such errors.\n",
    "- wrong indentation: the error message may provide where it occured.\n",
    "- incorrect data type: Use the type conversion functions, such as int(), float(), str(). I have seem many people not wrapping their name and id with quotation marks for the pledge part.\n",
    "- other syntax errors: Read the error message and take a look at where it occured.  Most of the time, error messages help you fix the error.\n",
    "- logic errors: Even when no syntax error is found, your answer can be marked wrong if you have logic errors. Sometimes, you can get hints from grader.check() output. Wrong indentation oftentimes leads to a logic error. The best way to fix would be inserting testing codes such as printing object, calling the function you create with sample inputs. Fixing logic errors is a challenge for even professional coders.\n",
    "- submitting a wrong file to Gradescope: Make sure you follow the instructions carefully. Know how to browse to a file.  Also, try not to create multiple files and check the time stamp if you do.\n",
    "\n",
    "### Other tips\n",
    "- Restart the Kernel (select Kernel>Restart menu) if your notebook hangs and do not run your code.  After restarting the kernel, you may want to run all cells above your current cell (Cell > Run All Above) menu, to make sure all variables/objects you need are created.\n",
    "- Once you are ready to submit your file, selecting **Kernel > Restart All** menu will let you rerun all codes from top to bottom."
   ]
  },
  {
   "cell_type": "code",
   "execution_count": 1,
   "id": "3e112267",
   "metadata": {
    "scrolled": true
   },
   "outputs": [],
   "source": [
    "%pprint # to turn off pretty printing"
   ]
  },
  {
   "cell_type": "markdown",
   "id": "487d7c59",
   "metadata": {},
   "source": [
    "### Data Manipulation with Pandas\n",
    "\n",
    "For the questions below, you also need the data files \"LoanDataOriginal.csv\" and \"covid_all.csv\".  So, make sure they are in the *same* folder where this file is."
   ]
  },
  {
   "cell_type": "code",
   "execution_count": 2,
   "id": "cb2e6ffa",
   "metadata": {},
   "outputs": [],
   "source": [
    "# This will tell you what your working directory is\n",
    "%pwd"
   ]
  },
  {
   "cell_type": "code",
   "execution_count": 3,
   "id": "15241db1",
   "metadata": {},
   "outputs": [],
   "source": [
    "# If you do not see LoanDataOriginal.csv and covid_all.csv, you need to use %cd '***The correct directory path***'\n",
    "%ls"
   ]
  },
  {
   "cell_type": "code",
   "execution_count": 4,
   "id": "19447f8e",
   "metadata": {},
   "outputs": [],
   "source": [
    "# import numpy and pandas\n",
    "import numpy as np\n",
    "import pandas as pd"
   ]
  },
  {
   "cell_type": "code",
   "execution_count": 5,
   "id": "dacb6c2d",
   "metadata": {},
   "outputs": [],
   "source": [
    "# Import the file as DataFrame object and assign it to loans. \n",
    "# The index column will be generated automatrically.\n",
    "loans=pd.read_csv(\"LoanDataOriginal.csv\")\n",
    "loans.head()"
   ]
  },
  {
   "cell_type": "code",
   "execution_count": 6,
   "id": "1cb0ae9b",
   "metadata": {},
   "outputs": [],
   "source": [
    "# Check the structure of loans DataFrame object.\n",
    "loans.info()"
   ]
  },
  {
   "cell_type": "code",
   "execution_count": 7,
   "id": "7d7a3b47",
   "metadata": {},
   "outputs": [],
   "source": [
    "# Descriptive statistics of loans\n",
    "loans.describe()"
   ]
  },
  {
   "cell_type": "markdown",
   "id": "497a2bec",
   "metadata": {},
   "source": [
    "**Question 1 (1pt):** \n",
    "\n",
    "After reading \"LoanDataOriginal.csv\" as a pandas.core.frame.DataFrame object named loan (already coded above), change the data type of `LoanStatus` as `category`. Refer to the pandas documentation for the [category](https://pandas.pydata.org/pandas-docs/stable/user_guide/categorical.html) data type and check out the examples. "
   ]
  },
  {
   "cell_type": "code",
   "execution_count": 8,
   "id": "ac28d479",
   "metadata": {
    "tags": []
   },
   "outputs": [],
   "source": [
    "# Write your code here.\n",
    "loans.LoanStatus = loans.LoanStatus.astype('category')"
   ]
  },
  {
   "cell_type": "code",
   "execution_count": 9,
   "id": "cbef03e4",
   "metadata": {},
   "outputs": [],
   "source": [
    "# See if LoanStatus has the correct dtype\n",
    "print(loans['LoanStatus'].dtype)\n",
    "loans['LoanStatus'].dtype"
   ]
  },
  {
   "cell_type": "code",
   "execution_count": null,
   "id": "2056e432",
   "metadata": {
    "deletable": false,
    "editable": false
   },
   "outputs": [],
   "source": [
    "grader.check(\"q1\")"
   ]
  },
  {
   "cell_type": "markdown",
   "id": "f39ff450",
   "metadata": {},
   "source": [
    "**Question 2 (4pts):** \n",
    "- Replace all values of `99999999` in `CurrentLoanAmount` with `NaN`.  That is, assign `np.NaN` to all items in column `CurrentLoanAmount` that satisfies the condition `loans['CurrentLoanAmount']==99999999`. \n",
    "- Rename the column name of `CurrentLoanAmount` to `LoanAmount` and that of `CurrentCredit` to `Credit`.\n",
    "- Take the average of `LoanAmount` and store it in a variable named `avg_loan`.  The `np.mean()` function or Series object's `mean()` method will ignore the NaNs.\n",
    "- Replace all NaNs in `LoanAmount` with `avg_loan`. "
   ]
  },
  {
   "cell_type": "code",
   "execution_count": 11,
   "id": "f5321fbb",
   "metadata": {
    "tags": []
   },
   "outputs": [],
   "source": [
    "# Write your code here.\n",
    "loans.loc[loans.CurrentLoanAmount==99999999,'CurrentLoanAmount'] = np.NaN #rename columns CurrentLoanAmount and CurrentCredit to 'LoanAmount' and 'Credit' respectively\n",
    "loans = loans.rename(columns={'CurrentLoanAmount': 'LoanAmount', 'CurrentCredit': 'Credit'}) #get average of LoanAmount\n",
    "avg_loan = loans.LoanAmount.mean() #replace Nan values in LoanAmount with 'avg_loan'\n",
    "loans['LoanAmount'] = loans['LoanAmount'].fillna(avg_loan)"
   ]
  },
  {
   "cell_type": "code",
   "execution_count": null,
   "id": "7bd3448d",
   "metadata": {
    "deletable": false,
    "editable": false
   },
   "outputs": [],
   "source": [
    "grader.check(\"q2\")"
   ]
  },
  {
   "cell_type": "markdown",
   "id": "7d14ed6f",
   "metadata": {},
   "source": [
    "**Question 3 (3pts):** \n",
    "\n",
    "- Add a new column `Amt_per_Acct` to the DataFrame object `loans`. `Amt_per_Acct` should be computed as `LoanAmount / OpenAccounts`.  \n",
    "- Create a DataFrame (subset) that contains the loans that are fully paid and assign it to a variable named `fully_paid`. Include all columns.\n",
    "- (Optional for 1pt extra credit) Create a data frame named open_le_10 by taking the first 4 columns and the last 4 columns for loans of customers with 10 or less OpenAccounts."
   ]
  },
  {
   "cell_type": "code",
   "execution_count": 16,
   "id": "271af053",
   "metadata": {
    "tags": []
   },
   "outputs": [],
   "source": [
    "# Write your code here.\n",
    "loans['Amt_per_Acct'] = loans['LoanAmount'] / loans['OpenAccounts'] #create a subset called 'fully_paid' with all columns and LoanStatus=Fully Paid\n",
    "fully_paid = loans[loans.LoanStatus=='Fully Paid']"
   ]
  },
  {
   "cell_type": "code",
   "execution_count": 17,
   "id": "7e075c12",
   "metadata": {},
   "outputs": [],
   "source": [
    "# Check if the new column has been added.\n",
    "loans.head(3)"
   ]
  },
  {
   "cell_type": "code",
   "execution_count": null,
   "id": "333a1c5e",
   "metadata": {
    "deletable": false,
    "editable": false
   },
   "outputs": [],
   "source": [
    "grader.check(\"q3\")"
   ]
  },
  {
   "cell_type": "markdown",
   "id": "35c7e853",
   "metadata": {},
   "source": [
    "**Question 4 (2pts):** \n",
    "\n",
    "From the `loans` DataFrame object: \n",
    "- Create a DataFrame object named `high_risk` which has selected columns `[CustomerID, LoanAmount`, `Credit`, `Income`,`CreditScore]` and includes loans of customers with `YearsCreditHistory` less than average and `MonthlyDebt` greater than average.  Remember that you need to use bitwise logical operators (`&`,`|`, `~`) instead of regular logical operators (`and`, `or`, `not) when comparing the elements of an array-like structure.\n",
    "- Create a data frame named valued_customer with selected columns - `LoanID, LoanStatus, OpenAccounts, Amt_per_Acct, MonthlyDebt` - for fully paid loans where Amt_per_Acct is \\$125,000 or more."
   ]
  },
  {
   "cell_type": "code",
   "execution_count": 24,
   "id": "36b491e1",
   "metadata": {
    "tags": []
   },
   "outputs": [],
   "source": [
    "# Write your code here.\n",
    "avg_creditHistory = loans['YearsCreditHistory'].mean()\n",
    "avg_monthlydebt = loans['MonthlyDebt'].mean()\n",
    "list_col = ['CustomerID','LoanAmount','Credit','Income','CreditScore']\n",
    "\n",
    "high_risk = loans[(loans['YearsCreditHistory']<avg_creditHistory) & (loans['MonthlyDebt']>avg_monthlydebt)][list_col]\n",
    "\n",
    "list_col = ['LoanID','LoanStatus','OpenAccounts','Amt_per_Acct','MonthlyDebt']\n",
    "\n",
    "valued_customer = fully_paid[fully_paid.Amt_per_Acct>=125000][list_col]"
   ]
  },
  {
   "cell_type": "code",
   "execution_count": 25,
   "id": "be954520",
   "metadata": {},
   "outputs": [],
   "source": [
    "# Display and check if your answer works.\n",
    "print(high_risk.head(3))\n",
    "valued_customer.head(3)"
   ]
  },
  {
   "cell_type": "code",
   "execution_count": null,
   "id": "6f3734c1",
   "metadata": {
    "deletable": false,
    "editable": false
   },
   "outputs": [],
   "source": [
    "grader.check(\"q4\")"
   ]
  },
  {
   "cell_type": "markdown",
   "id": "c03a6f19",
   "metadata": {},
   "source": [
    "**Question 5 (3pt):** \n",
    "\n",
    "- Import \"covid_all.csv\" as a pandas.core.frame.DataFrame object named `covid_all`. Use the first column as the index column. \n",
    "\n",
    "- Remove all rows that are not the data for the 50 states and DC and store the remaining rows in a new variable named `covid_main`. Hint: Use columns `state` and `Type` to include only the states and DC (i.e., `covid_all['state']=='DC' | covid_all['Type']=='State'`). You just need to use `loc` to apply this filter and select all columns (using :).\n",
    "\n",
    "- Select the columns, `date`, `state`, `Name`, `Population`, `deathIncrease`, `hospitalizedCurrently`, `positiveIncrease`, and `totalTestResultsIncrease` from `covid_main`. Then, rename these columns with new names `Date`, `StateCode`, `StateName`, `Pop`, `NewDeath`, `HospNow`, `NewCase`, and `NewTest`. Finally, assign this to a new variable named `covid`.\n",
    "\n",
    "- Convert the `Date` column to datetime. The code for this is provided for you below."
   ]
  },
  {
   "cell_type": "code",
   "execution_count": 30,
   "id": "7c102a14",
   "metadata": {
    "tags": []
   },
   "outputs": [],
   "source": [
    "# Write your code here.\n",
    "covid_all = pd.read_csv(\"covid_all.csv\", index_col=0)\n",
    "\n",
    "covid_main = covid_all.loc[(covid_all['state']=='DC') | (covid_all['Type']=='State'),:]\n",
    "\n",
    "covid=covid_main.loc[:,['date', 'state', 'Name', 'Population', 'deathIncrease',\n",
    "'hospitalizedCurrently', 'positiveIncrease', 'totalTestResultsIncrease']]\n",
    "covid = covid.set_axis(['Date', 'StateCode', 'StateName', 'Pop', 'NewDeath',\n",
    "'HospNow', 'NewCase', 'NewTest'], axis=1)\n",
    "\n",
    "# Insert code that sets index with 'Date' column as a datetime object.\n",
    "covid['Date'] = pd.to_datetime(covid['Date'], format=\"%Y-%m-%d\")\n",
    "\n",
    "covid.info()\n",
    "covid"
   ]
  },
  {
   "cell_type": "code",
   "execution_count": null,
   "id": "995d1b81",
   "metadata": {
    "deletable": false,
    "editable": false
   },
   "outputs": [],
   "source": [
    "grader.check(\"q5\")"
   ]
  },
  {
   "cell_type": "markdown",
   "id": "1d0e2bfa",
   "metadata": {},
   "source": [
    "**Question 6 (3pt):** \n",
    "\n",
    "- Count the number of NaNs or 0s in the `NewCase` column of covid and store it in a variable named `num_no_case`. Hint: The `np.sum()` function or the 'Series object's `sum()` method  can be useful to count the number of `True`’s in a logical vector. Create a logical vector that represent whether its elements are `NaN` or 0 (i.e., `covid['NewCase'].isna() | covid['NewCase']==0`).\n",
    "\n",
    "- Count the number of all `NaN`s in covid and store it in a variable named `num_NaN`. You may have to run `sum()` twice because `sum()` performs a summation of array elements over a given axis. \n",
    "\n",
    "- Run `covid.info()` and `covid.tail()` and see what columns have NAs. You may also notice that `Pop` is currently not a numeric type. Change the data type of `Pop` to numeric. Hint: `s.str.replace(\",\",\"\")` can remove all commas in all elements in Series `s`. You may then want to use the `astype()` function after removing the commas.\n",
    "\n",
    "- Replace all `NaN`s in column `HospNow` with 0s."
   ]
  },
  {
   "cell_type": "code",
   "execution_count": 34,
   "id": "fe216684",
   "metadata": {
    "tags": []
   },
   "outputs": [],
   "source": [
    "# Write your code here ###\n",
    "num_no_case = np.sum(covid['NewCase'].isna() | covid['NewCase']==0)\n",
    "num_NaN = covid.isna().sum().sum()\n",
    "\n",
    "covid['Pop']=covid['Pop'].str.replace(\",\",\"\").astype(int)\n",
    "covid.loc[covid['HospNow'].isna(),'HospNow']=0\n",
    "covid.info()\n",
    "covid.tail()"
   ]
  },
  {
   "cell_type": "code",
   "execution_count": null,
   "id": "39277fa4",
   "metadata": {
    "deletable": false,
    "editable": false
   },
   "outputs": [],
   "source": [
    "grader.check(\"q6\")"
   ]
  },
  {
   "cell_type": "markdown",
   "id": "a41fa388",
   "metadata": {},
   "source": [
    "## Data Visualization with pandas and matplotlib"
   ]
  },
  {
   "cell_type": "code",
   "execution_count": 38,
   "id": "0d0052aa",
   "metadata": {},
   "outputs": [],
   "source": [
    "# The following code is to show how to visualize your data in Python\n",
    "import matplotlib.pyplot as plt\n",
    "plt.close(\"all\")\n",
    "\n",
    "covid5 = covid.loc[covid['StateCode'].isin(['NC','VA','SC','TN','GA']), ['Date','StateCode','HospNow']]\n",
    "covid5.set_index('Date',inplace=True)\n",
    "covid5.groupby('StateCode')['HospNow'].plot(legend=True)"
   ]
  },
  {
   "cell_type": "markdown",
   "id": "1a1981ee",
   "metadata": {},
   "source": [
    "**Question 7 (1pt):** \n",
    "    \n",
    "Modify `covid` to create a new column named `HospPerKiloPop`, which is calculated as `1000*HospNow/Pop`. This measure represents the number of hospitalized patients per 1,000 people, and thus it is a good measure to compare states with different sizes. Plot `HospPerKiloPop` instead of 'HospNow' to see whether hopitalization in North Carolina was better or worse than other neighboring states."
   ]
  },
  {
   "cell_type": "code",
   "execution_count": 39,
   "id": "1996d7e4",
   "metadata": {
    "tags": []
   },
   "outputs": [],
   "source": [
    "# Write your code here ###\n",
    "covid['HospPerKiloPop'] = 1000*covid['HospNow']/covid['Pop']"
   ]
  },
  {
   "cell_type": "code",
   "execution_count": 40,
   "id": "3ac30fd3",
   "metadata": {},
   "outputs": [],
   "source": [
    "covid5 = covid.loc[covid['StateCode'].isin(['NC','VA','SC','TN','GA']), ['Date','StateCode','HospPerKiloPop']]\n",
    "covid5.set_index('Date',inplace=True)\n",
    "covid5.groupby('StateCode')['HospPerKiloPop'].plot(legend=True)\n",
    "\n",
    "del(covid['HospPerKiloPop']) # Delete the newly added column"
   ]
  },
  {
   "cell_type": "code",
   "execution_count": null,
   "id": "ef1fe187",
   "metadata": {
    "deletable": false,
    "editable": false
   },
   "outputs": [],
   "source": [
    "grader.check(\"q7\")"
   ]
  },
  {
   "cell_type": "markdown",
   "id": "95ecbeb2",
   "metadata": {},
   "source": [
    "**Question 8 (3pt):** \n",
    "\n",
    "Below you will find a code that generates a monthly summary data named `covid_mon`.  Add your code for the following:\n",
    "- Add a new column named `PosRate` to `covid_mon`, which is calculated as `MCase/MTest`.\n",
    "- Add a new column named `MDeathPerMilPop`, which represents monthly number of deaths per milllion people. \n",
    "- Add a set of new columns `MHospPerKiloPop`, `MCasePerKiloPop`, and `MTestPerKiloPop`. These should represent monthly total hopitalized days, number of cases, and number of tests per 1,000 people. \t"
   ]
  },
  {
   "cell_type": "code",
   "execution_count": 43,
   "id": "a0158248",
   "metadata": {
    "tags": []
   },
   "outputs": [],
   "source": [
    "#The following code generates a monthly summary data.\n",
    "covid['Year'] = pd.DatetimeIndex(covid['Date']).year\n",
    "covid['Month'] = pd.DatetimeIndex(covid['Date']).month\n",
    "covid = covid.loc[((covid['Year']==2020) & (covid['Month']>=3))| ((covid['Year']==2021) & (covid['Month']<=2)),:]\n",
    "\n",
    "covid_mon = covid.groupby(by=['Year','Month','StateCode'])[['NewDeath','HospNow','NewCase','NewTest']].sum()\n",
    "covid_mon_add = covid.groupby(by=['Year','Month','StateCode'])[['Date','Pop']].max()\n",
    "covid_mon = pd.concat([covid_mon, covid_mon_add],axis=1)\n",
    "covid_mon = covid_mon.rename({'NewDeath':'MDeath','HospNow':'MHosp','NewCase':'MCase','NewTest':'MTest'}, axis=1)\n",
    "covid_mon = covid_mon.reset_index()"
   ]
  },
  {
   "cell_type": "code",
   "execution_count": 44,
   "id": "77051edd",
   "metadata": {
    "tags": []
   },
   "outputs": [],
   "source": [
    "# Write your code here ###\n",
    "covid_mon['PosRate'] = covid_mon['MCase']/covid_mon['MTest']\n",
    "covid_mon['MDeathPerMilPop']=1000000*covid_mon.MDeath/covid_mon.Pop\n",
    "covid_mon['MHospPerKiloPop']=1000*covid_mon.MHosp/covid_mon.Pop\n",
    "covid_mon['MCasePerKiloPop']=1000*covid_mon.MCase/covid_mon.Pop\n",
    "covid_mon['MTestPerKiloPop']=1000*covid_mon.MTest/covid_mon.Pop"
   ]
  },
  {
   "cell_type": "code",
   "execution_count": null,
   "id": "b77a87a0",
   "metadata": {
    "deletable": false,
    "editable": false
   },
   "outputs": [],
   "source": [
    "grader.check(\"q8\")"
   ]
  },
  {
   "cell_type": "markdown",
   "id": "d3ce11d6",
   "metadata": {},
   "source": [
    "### The codes below will let you visualize each COVID-19 metric.  \n",
    "Feel free to mess with & improve the visualizations such as adding the title.  No points are assigned though."
   ]
  },
  {
   "cell_type": "code",
   "execution_count": 51,
   "id": "6b7640a8",
   "metadata": {},
   "outputs": [],
   "source": [
    "pos_rate = covid_mon.loc[covid_mon['StateCode'].isin(['NC','VA','SC','TN','GA']), ['Date','StateCode','PosRate']]\n",
    "pos_rate.set_index('Date').groupby('StateCode')['PosRate'].plot(legend=True)"
   ]
  },
  {
   "cell_type": "code",
   "execution_count": 52,
   "id": "8de92f7d",
   "metadata": {},
   "outputs": [],
   "source": [
    "mdeath = covid_mon.loc[covid_mon['StateCode'].isin(['NC','VA','SC','TN','GA']), ['Date','StateCode','MDeathPerMilPop']]\n",
    "mdeath.set_index('Date').groupby('StateCode')['MDeathPerMilPop'].plot(legend=True)"
   ]
  },
  {
   "cell_type": "code",
   "execution_count": 53,
   "id": "593a60ea",
   "metadata": {},
   "outputs": [],
   "source": [
    "mhosp = covid_mon.loc[covid_mon['StateCode'].isin(['NC','VA','SC','TN','GA']), ['Date','StateCode','MHospPerKiloPop']]\n",
    "mhosp.set_index('Date').groupby('StateCode')['MHospPerKiloPop'].plot(legend=True)"
   ]
  },
  {
   "cell_type": "code",
   "execution_count": 54,
   "id": "e3c2f055",
   "metadata": {},
   "outputs": [],
   "source": [
    "mcase = covid_mon.loc[covid_mon['StateCode'].isin(['NC','VA','SC','TN','GA']), ['Date','StateCode','MCasePerKiloPop']]\n",
    "mcase.set_index('Date').groupby('StateCode')['MCasePerKiloPop'].plot(legend=True)"
   ]
  },
  {
   "cell_type": "code",
   "execution_count": 55,
   "id": "0160467f",
   "metadata": {},
   "outputs": [],
   "source": [
    "mtest = covid_mon.loc[covid_mon['StateCode'].isin(['NC','VA','SC','TN','GA']), ['Date','StateCode','MTestPerKiloPop']]\n",
    "mtest.set_index('Date').groupby('StateCode')['MTestPerKiloPop'].plot(legend=True)"
   ]
  },
  {
   "cell_type": "markdown",
   "id": "51cf8c66",
   "metadata": {},
   "source": [
    "**Question 9 (2pt):** \n",
    "    \n",
    "- Use `pivot_table()` so that StateCode values (e.g., ’NC’) become variables and each cell contains a `MHosp` value. You need `Date`, `StateCode`, and `MHosp` in `pivot_table()` to get the format you want. Assign the modified DataFrame to a variable named `hospital_days`.\n",
    "- Modify `hospital_days` to add a new column named `USTotal` that aggregates the number of hospital days. Hint: Use the correct axis value."
   ]
  },
  {
   "cell_type": "code",
   "execution_count": 56,
   "id": "8bbc2fe7",
   "metadata": {
    "tags": []
   },
   "outputs": [],
   "source": [
    "# Write your code here ###\n",
    "hospital_days = covid_mon.pivot_table(values='MHosp', index='Date',columns=\"StateCode\")\n",
    "hospital_days['USTotal'] = hospital_days.sum(axis=1)"
   ]
  },
  {
   "cell_type": "code",
   "execution_count": 57,
   "id": "80388d34",
   "metadata": {},
   "outputs": [],
   "source": [
    "# Check if your code works\n",
    "hospital_days"
   ]
  },
  {
   "cell_type": "code",
   "execution_count": null,
   "id": "4df4524d",
   "metadata": {
    "deletable": false,
    "editable": false
   },
   "outputs": [],
   "source": [
    "grader.check(\"q9\")"
   ]
  },
  {
   "cell_type": "markdown",
   "id": "9015565c",
   "metadata": {},
   "source": [
    "**Honor Pledge:** As a signature for the following honor pledge, store your name as it is appeared on Canvas (e.g., \"Mike Jordan\") and Login ID (e.g., \"mjorda21\") in variables `my_name` and `my_id` below.  \n",
    "\n",
    "***I affirm that I have not given or received any unauthorized help on this assignment and that this work is my own.***"
   ]
  },
  {
   "cell_type": "code",
   "execution_count": 62,
   "id": "70987254",
   "metadata": {
    "tags": []
   },
   "outputs": [],
   "source": [
    "my_name = \"Faye Struble\"\n",
    "my_id = \"fstruble\""
   ]
  }
 ],
 "metadata": {
  "kernelspec": {
   "display_name": "Python 3 (ipykernel)",
   "language": "python",
   "name": "python3"
  },
  "language_info": {
   "codemirror_mode": {
    "name": "ipython",
    "version": 3
   },
   "file_extension": ".py",
   "mimetype": "text/x-python",
   "name": "python",
   "nbconvert_exporter": "python",
   "pygments_lexer": "ipython3",
   "version": "3.9.7"
  },
  "otter": {
   "tests": {
    "pledge": {
     "name": "pledge",
     "points": [
      0.5
     ],
     "suites": [
      {
       "cases": [],
       "scored": true,
       "setup": "",
       "teardown": "",
       "type": "doctest"
      }
     ]
    },
    "q1": {
     "name": "q1",
     "points": [
      1
     ],
     "suites": [
      {
       "cases": [
        {
         "code": ">>> loans['LoanStatus'].dtype=='category'\nTrue",
         "hidden": false,
         "locked": false
        }
       ],
       "scored": true,
       "setup": "",
       "teardown": "",
       "type": "doctest"
      }
     ]
    },
    "q2": {
     "name": "q2",
     "points": 4,
     "suites": [
      {
       "cases": [
        {
         "code": ">>> ('LoanAmount' in loans.columns) and ('CurrentLoanAmount' not in loans.columns)\nTrue",
         "hidden": false,
         "locked": false
        },
        {
         "code": ">>> 312313<avg_loan and avg_loan<312314\nTrue",
         "hidden": false,
         "locked": false
        },
        {
         "code": ">>> np.mean(loans['LoanAmount'])>312313 and loans['LoanAmount'].mean()<312314\nTrue",
         "hidden": false,
         "locked": false
        }
       ],
       "scored": true,
       "setup": "",
       "teardown": "",
       "type": "doctest"
      }
     ]
    },
    "q3": {
     "name": "q3",
     "points": 3,
     "suites": [
      {
       "cases": [
        {
         "code": ">>> 'Amt_per_Acct' in loans.columns.values\nTrue",
         "hidden": false,
         "locked": false
        },
        {
         "code": ">>> loans.loc[2,'Amt_per_Acct']>17350 and loans.loc[2,'Amt_per_Acct']<17351\nTrue",
         "hidden": false,
         "locked": false
        },
        {
         "code": ">>> all(fully_paid['LoanStatus']=='Fully Paid')\nTrue",
         "hidden": false,
         "locked": false
        }
       ],
       "scored": true,
       "setup": "",
       "teardown": "",
       "type": "doctest"
      }
     ]
    },
    "q4": {
     "name": "q4",
     "points": [
      0.5,
      0.5,
      0.5,
      0.5
     ],
     "suites": [
      {
       "cases": [
        {
         "code": ">>> (high_risk.columns.values==['CustomerID', 'LoanAmount', 'Credit', 'Income', 'CreditScore']).all()\nTrue",
         "hidden": false,
         "locked": false
        },
        {
         "code": ">>> high_risk.shape==(20754, 5)\nTrue",
         "hidden": false,
         "locked": false
        },
        {
         "code": ">>> (valued_customer.columns.values==np.array(['LoanID', 'LoanStatus', 'OpenAccounts', 'Amt_per_Acct',\n...        'MonthlyDebt'], dtype=object)).all()\nTrue",
         "hidden": false,
         "locked": false
        },
        {
         "code": ">>> (valued_customer['LoanStatus']=='Fully Paid').all() and (valued_customer['Amt_per_Acct']>=125000).all()\nTrue",
         "hidden": false,
         "locked": false
        }
       ],
       "scored": true,
       "setup": "",
       "teardown": "",
       "type": "doctest"
      }
     ]
    },
    "q5": {
     "name": "q5",
     "points": 3,
     "suites": [
      {
       "cases": [
        {
         "code": ">>> covid_all.shape==(20780, 45)\nTrue",
         "hidden": false,
         "locked": false
        },
        {
         "code": ">>> covid_main.shape==(18995, 45)\nTrue",
         "hidden": false,
         "locked": false
        },
        {
         "code": ">>> covid.columns.isin(['Date', 'StateCode', 'StateName', 'Pop', 'NewDeath', 'HospNow','NewCase', 'NewTest']).all()\nTrue",
         "hidden": false,
         "locked": false
        }
       ],
       "scored": true,
       "setup": "",
       "teardown": "",
       "type": "doctest"
      }
     ]
    },
    "q6": {
     "name": "q6",
     "points": [
      1,
      1,
      1
     ],
     "suites": [
      {
       "cases": [
        {
         "code": ">>> (not covid['HospNow'].isna().any())\nTrue",
         "hidden": false,
         "locked": false
        }
       ],
       "scored": true,
       "setup": "",
       "teardown": "",
       "type": "doctest"
      }
     ]
    },
    "q7": {
     "name": "q7",
     "points": [
      0.5,
      0.5
     ],
     "suites": [
      {
       "cases": [
        {
         "code": ">>> (covid5['HospPerKiloPop'].sum()>315) and (covid5['HospPerKiloPop'].sum()<316)\nTrue",
         "hidden": false,
         "locked": false
        }
       ],
       "scored": true,
       "setup": "",
       "teardown": "",
       "type": "doctest"
      }
     ]
    },
    "q8": {
     "name": "q8",
     "points": 3,
     "suites": [
      {
       "cases": [
        {
         "code": ">>> np.all(covid_mon.columns.values==np.array(['Year', 'Month', 'StateCode', 'MDeath', 'MHosp', 'MCase', 'MTest',\n...        'Date', 'Pop', 'PosRate', 'MDeathPerMilPop', 'MHospPerKiloPop',\n...        'MCasePerKiloPop', 'MTestPerKiloPop'], dtype=object))\nTrue",
         "hidden": false,
         "locked": false
        },
        {
         "code": ">>> (covid_mon['PosRate'].mean()>0.090) and (covid_mon['PosRate'].mean()<0.091)\nTrue",
         "hidden": false,
         "locked": false
        },
        {
         "code": ">>> (covid_mon['MDeathPerMilPop'].mean()>120) and (covid_mon['MDeathPerMilPop'].mean()<121)\nTrue",
         "hidden": false,
         "locked": false
        },
        {
         "code": ">>> (covid_mon['MHospPerKiloPop'].mean()>4.5) and (covid_mon['MHospPerKiloPop'].mean()<4.6)\nTrue",
         "hidden": false,
         "locked": false
        },
        {
         "code": ">>> (covid_mon['MCasePerKiloPop'].mean()>7.1) and (covid_mon['MCasePerKiloPop'].mean()<7.2)\nTrue",
         "hidden": false,
         "locked": false
        },
        {
         "code": ">>> (covid_mon['MTestPerKiloPop'].mean()>93) and (covid_mon['MTestPerKiloPop'].mean()<94)\nTrue",
         "hidden": false,
         "locked": false
        }
       ],
       "scored": true,
       "setup": "",
       "teardown": "",
       "type": "doctest"
      }
     ]
    },
    "q9": {
     "name": "q9",
     "points": 2,
     "suites": [
      {
       "cases": [
        {
         "code": ">>> (hospital_days.columns.values==np.array(['AK', 'AL', 'AR', 'AZ', 'CA', 'CO', 'CT', 'DC', 'DE', 'FL', 'GA',\n...        'HI', 'IA', 'ID', 'IL', 'IN', 'KS', 'KY', 'LA', 'MA', 'MD', 'ME',\n...        'MI', 'MN', 'MO', 'MS', 'MT', 'NC', 'ND', 'NE', 'NH', 'NJ', 'NM',\n...        'NV', 'NY', 'OH', 'OK', 'OR', 'PA', 'RI', 'SC', 'SD', 'TN', 'TX',\n...        'UT', 'VA', 'VT', 'WA', 'WI', 'WV', 'WY', 'USTotal'], dtype=object)).all()\nTrue",
         "hidden": false,
         "locked": false
        },
        {
         "code": ">>> hospital_days['USTotal'].sum()==20223449\nTrue",
         "hidden": false,
         "locked": false
        }
       ],
       "scored": true,
       "setup": "",
       "teardown": "",
       "type": "doctest"
      }
     ]
    }
   }
  },
  "varInspector": {
   "cols": {
    "lenName": 16,
    "lenType": 16,
    "lenVar": 40
   },
   "kernels_config": {
    "python": {
     "delete_cmd_postfix": "",
     "delete_cmd_prefix": "del ",
     "library": "var_list.py",
     "varRefreshCmd": "print(var_dic_list())"
    },
    "r": {
     "delete_cmd_postfix": ") ",
     "delete_cmd_prefix": "rm(",
     "library": "var_list.r",
     "varRefreshCmd": "cat(var_dic_list()) "
    }
   },
   "types_to_exclude": [
    "module",
    "function",
    "builtin_function_or_method",
    "instance",
    "_Feature"
   ],
   "window_display": false
  }
 },
 "nbformat": 4,
 "nbformat_minor": 5
}
